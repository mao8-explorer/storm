{
 "cells": [
  {
   "cell_type": "code",
   "execution_count": null,
   "metadata": {},
   "outputs": [],
   "source": []
  },
  {
   "cell_type": "markdown",
   "metadata": {},
   "source": [
    "# 多图动态显示 plt.imshow()"
   ]
  },
  {
   "cell_type": "code",
   "execution_count": null,
   "metadata": {},
   "outputs": [],
   "source": [
    "import matplotlib.pyplot as plt\n",
    "import matplotlib.image as mpimg\n",
    "import numpy as np\n",
    "\n",
    "\n",
    "fig = plt.figure()\n",
    "ax = plt.subplot(1,1,1)\n",
    "\n",
    "\n",
    "fig = plt.figure()\n",
    "ax = plt.subplot(1,1,1)\n",
    "\n",
    "sdf_image = np.zeros_like(dist_map)\n",
    "\n",
    "for thresh in np.linspace(dist_map.max(),dist_map.min(),200):\n",
    "    ax.cla()\n",
    "    \n",
    "    sdf_image = np.zeros_like(dist_map)\n",
    "    \n",
    "    # 根据当前阈值更新 sdf_image\n",
    "    sdf_image[dist_map > thresh] = 0\n",
    "    sdf_image[dist_map <= thresh] = 255\n",
    "\n",
    "    ax.imshow(sdf_image, cmap='gray')  # 使用 'gray' 颜色映射以显示灰度图像\n",
    "    ax.set_title(f\"Threshold: {thresh}\")\n",
    "    \n",
    "    plt.pause(0.1)  # 暂停一秒钟以显示图像"
   ]
  },
  {
   "cell_type": "code",
   "execution_count": null,
   "metadata": {},
   "outputs": [],
   "source": []
  }
 ],
 "metadata": {
  "language_info": {
   "name": "python"
  },
  "orig_nbformat": 4
 },
 "nbformat": 4,
 "nbformat_minor": 2
}

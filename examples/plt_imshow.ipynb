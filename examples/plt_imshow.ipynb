{
 "cells": [
  {
   "cell_type": "markdown",
   "metadata": {},
   "source": [
    "# 多图动态显示 plt.imshow()"
   ]
  },
  {
   "cell_type": "code",
   "execution_count": null,
   "metadata": {},
   "outputs": [],
   "source": [
    "import matplotlib.pyplot as plt\n",
    "import matplotlib.image as mpimg\n",
    "import numpy as np\n",
    "\n",
    "\n",
    "fig = plt.figure()\n",
    "ax = plt.subplot(1,1,1)\n",
    "\n",
    "\n",
    "fig = plt.figure()\n",
    "ax = plt.subplot(1,1,1)\n",
    "\n",
    "sdf_image = np.zeros_like(dist_map)\n",
    "\n",
    "for thresh in np.linspace(dist_map.max(),dist_map.min(),200):\n",
    "    ax.cla()\n",
    "    \n",
    "    sdf_image = np.zeros_like(dist_map)\n",
    "    \n",
    "    # 根据当前阈值更新 sdf_image\n",
    "    sdf_image[dist_map > thresh] = 0\n",
    "    sdf_image[dist_map <= thresh] = 255\n",
    "\n",
    "    ax.imshow(sdf_image, cmap='gray')  # 使用 'gray' 颜色映射以显示灰度图像\n",
    "    ax.set_title(f\"Threshold: {thresh}\")\n",
    "    \n",
    "    plt.pause(0.1)  # 暂停一秒钟以显示图像"
   ]
  },
  {
   "cell_type": "markdown",
   "metadata": {},
   "source": [
    "# reshape"
   ]
  },
  {
   "cell_type": "code",
   "execution_count": null,
   "metadata": {},
   "outputs": [],
   "source": [
    "import numpy  as np\n",
    "\n",
    "\n",
    "a = np.ones([3,2,4,3])\n",
    "\n",
    "for i in range(3):\n",
    "    for j in range(2):\n",
    "        for k in range(4):\n",
    "            for w in range(3):\n",
    "                a[i,j,k,w] = (k+1)*(w+1) + i + j\n",
    "\n",
    "\n",
    "print(a)\n",
    "\n",
    "a.reshape(-1,4)\n"
   ]
  }
 ],
 "metadata": {
  "kernelspec": {
   "display_name": "base",
   "language": "python",
   "name": "python3"
  },
  "language_info": {
   "name": "python",
   "version": "3.8.13"
  },
  "orig_nbformat": 4
 },
 "nbformat": 4,
 "nbformat_minor": 2
}

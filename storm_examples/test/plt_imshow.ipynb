{
 "cells": [
  {
   "cell_type": "markdown",
   "metadata": {},
   "source": [
    "# 多图动态显示 plt.imshow()"
   ]
  },
  {
   "cell_type": "code",
   "execution_count": null,
   "metadata": {},
   "outputs": [],
   "source": [
    "import matplotlib.pyplot as plt\n",
    "import matplotlib.image as mpimg\n",
    "import numpy as np\n",
    "\n",
    "\n",
    "fig = plt.figure()\n",
    "ax = plt.subplot(1,1,1)\n",
    "\n",
    "\n",
    "fig = plt.figure()\n",
    "ax = plt.subplot(1,1,1)\n",
    "\n",
    "sdf_image = np.zeros_like(dist_map)\n",
    "\n",
    "for thresh in np.linspace(dist_map.max(),dist_map.min(),200):\n",
    "    ax.cla()\n",
    "    \n",
    "    sdf_image = np.zeros_like(dist_map)\n",
    "    \n",
    "    # 根据当前阈值更新 sdf_image\n",
    "    sdf_image[dist_map > thresh] = 0\n",
    "    sdf_image[dist_map <= thresh] = 255\n",
    "\n",
    "    ax.imshow(sdf_image, cmap='gray')  # 使用 'gray' 颜色映射以显示灰度图像\n",
    "    ax.set_title(f\"Threshold: {thresh}\")\n",
    "    \n",
    "    plt.pause(0.1)  # 暂停一秒钟以显示图像"
   ]
  },
  {
   "cell_type": "markdown",
   "metadata": {},
   "source": [
    "# reshape"
   ]
  },
  {
   "cell_type": "code",
   "execution_count": null,
   "metadata": {},
   "outputs": [],
   "source": [
    "import numpy  as np\n",
    "\n",
    "\n",
    "a = np.ones([3,2,4,3])\n",
    "\n",
    "for i in range(3):\n",
    "    for j in range(2):\n",
    "        for k in range(4):\n",
    "            for w in range(3):\n",
    "                a[i,j,k,w] = (k+1)*(w+1) + i + j\n",
    "\n",
    "\n",
    "print(a)\n",
    "\n",
    "a.reshape(-1,4)\n"
   ]
  },
  {
   "cell_type": "markdown",
   "metadata": {},
   "source": [
    "# gradient可视化"
   ]
  },
  {
   "cell_type": "code",
   "execution_count": null,
   "metadata": {},
   "outputs": [],
   "source": [
    "import matplotlib.pyplot as plt\n",
    "import numpy as np\n",
    "\n",
    "# 假设 gradient_magnitude 和 gradient_direction 是你计算得到的梯度强度和方向数据\n",
    "# 这里只是示例数据，实际应根据你的数据来填充\n",
    "gradient_magnitude = np.random.rand(10, 10)  # 10x10 的随机梯度强度\n",
    "gradient_direction = np.random.rand(10, 10)  # 10x10 的随机梯度方向\n",
    "\n",
    "x = np.arange(0, 10, 1)\n",
    "y = np.arange(0, 10, 1)\n",
    "X, Y = np.meshgrid(x, y)\n",
    "\n",
    "# 绘制箭头\n",
    "plt.quiver(X, Y, np.cos(gradient_direction), np.sin(gradient_direction), gradient_magnitude, cmap=plt.cm.jet)\n",
    "\n",
    "plt.show()\n"
   ]
  },
  {
   "cell_type": "code",
   "execution_count": null,
   "metadata": {},
   "outputs": [],
   "source": [
    "\n",
    "# 在将2D 图像转成 SDF后，现在需要 刻画SDF的梯度 并尝试可视化 梯度效果 world.py ->updateSDFPotientailGradient\n",
    "# 大致的运算：\n",
    "import matplotlib.pyplot as plt\n",
    "import torch\n",
    "grad_y, grad_x = torch.gradient(self.dist_map)\n",
    "# 可视化 grad_x ， grad_y 应该如何设计？ \n",
    "gradient_magnitude = torch.sqrt(grad_x**2 + grad_y**2 +  1e-10)\n",
    "# 这里的转向问题是坑 要多调试多看看 \n",
    "norm_grad_x, norm_grad_y = -grad_x / gradient_magnitude, grad_y / gradient_magnitude\n",
    "\n",
    "# 定义箭头位置\n",
    "x_range, y_range = self.dist_map.shape\n",
    "x_step, y_step = 10, 10\n",
    "x = np.arange(0, x_range, x_step)\n",
    "y = np.arange(0, y_range, y_step)\n",
    "X, Y = np.meshgrid(x, y)\n",
    "\n",
    "# 绘制箭头\n",
    "plt.figure()\n",
    "ax = plt.subplot(1,1,1)\n",
    "ax.invert_yaxis()\n",
    "ax.axis(\"equal\")\n",
    "ax.imshow(self.dist_map.cpu())\n",
    "ax.quiver(X, Y, norm_grad_x[::x_step, ::y_step].cpu().numpy(), norm_grad_y[::x_step, ::y_step].cpu().numpy(), gradient_magnitude[::x_step, ::y_step].cpu().numpy(), cmap=plt.cm.jet)"
   ]
  },
  {
   "cell_type": "markdown",
   "metadata": {},
   "source": [
    "\n",
    "\n",
    "<p align=\"left\">\n",
    "  <img width=\"10000\" src=\"../docs/images/Figure_18.png\" >\n",
    "</p>\n",
    "\n"
   ]
  },
  {
   "cell_type": "code",
   "execution_count": null,
   "metadata": {},
   "outputs": [],
   "source": [
    "下面的代码可能无法正常显示  使用.py文件 可以看到动态的sdf 图片"
   ]
  },
  {
   "cell_type": "code",
   "execution_count": null,
   "metadata": {},
   "outputs": [],
   "source": [
    "\n",
    "import cv2\n",
    "import numpy as np\n",
    "import torch\n",
    "import matplotlib.pyplot as plt\n",
    "import time\n",
    "\n",
    "class WorldMoveableImageCollision:\n",
    "    def __init__(self, \n",
    "                 world_image=\"/home/zm/MotionPolicyNetworks/storm_ws/storm/content/assets/collision_maps/collision_map_cem.png\", \n",
    "                 tensor_args={'device':\"cpu\", 'dtype':torch.float32}):\n",
    "        self.scene_im = None\n",
    "        self.tensor_args = tensor_args\n",
    "        im = cv2.imread(world_image, 0)\n",
    "        _, im = cv2.threshold(im, 10, 255, cv2.THRESH_BINARY)\n",
    "        self.im = im\n",
    "        shift = 3\n",
    "        self.movelist = np.float32([\n",
    "            [[1, 0, -shift], [0, 1, 0]],\n",
    "            [[1, 0, shift], [0, 1, 0]]])\n",
    "        self.step_move = 20\n",
    "        self.move_ind = 10\n",
    "        plt.figure()\n",
    "        self.ax = plt.subplot(1, 1, 1)\n",
    "        self.ax.invert_yaxis()  # 翻转y轴\n",
    "\n",
    "    def run(self):  \n",
    "        \"\"\"\n",
    "        SDF  potential and gradient update\n",
    "        \"\"\"\n",
    "        # load image and move_it\n",
    "        rows, cols = self.im.shape\n",
    "        ind = self.move_ind % (2 * self.step_move) // self.step_move\n",
    "        self.move_ind += 1\n",
    "        M_left = self.movelist[ind]\n",
    "        self.im = cv2.warpAffine(self.im, M_left, (cols, rows), borderMode=cv2.BORDER_CONSTANT, borderValue=255)\n",
    "\n",
    "        im_obstacle = cv2.bitwise_not(self.im)\n",
    "        dist_obstacle = cv2.distanceTransform(im_obstacle, cv2.DIST_L2, 3)\n",
    "        dist_outside = cv2.distanceTransform(self.im, cv2.DIST_L2, 3)\n",
    "\n",
    "        dist_map = dist_obstacle - dist_outside\n",
    "        self.dist_map = torch.as_tensor(dist_map, **self.tensor_args)\n",
    "\n",
    "        # 在将2D图像转成SDF后，现在需要刻画SDF的梯度并尝试可视化梯度效果\n",
    "        # 大致的运算：\n",
    "        grad_y, grad_x = torch.gradient(self.dist_map)\n",
    "        # 可视化 grad_x ， grad_y 应该如何设计？ \n",
    "        gradient_magnitude = torch.sqrt(grad_x**2 + grad_y**2 + 1e-10)\n",
    "        # 这里的转向问题是坑，要多调试多看看 \n",
    "        norm_grad_x, norm_grad_y = -grad_x / gradient_magnitude, -grad_y / gradient_magnitude\n",
    "        # 定义箭头位置\n",
    "        x_range, y_range = self.dist_map.shape\n",
    "        x_step = y_step =  8\n",
    "        x = np.arange(0, x_range, x_step)\n",
    "        y = np.arange(0, y_range, y_step)\n",
    "        X, Y = np.meshgrid(x, y)\n",
    "        # 绘制箭头\n",
    "        self.ax.cla()\n",
    "        self.ax.set_xlim(0, x_range)\n",
    "        self.ax.set_ylim(0, y_range)\n",
    "        self.ax.imshow(self.dist_map.cpu())\n",
    "        self.ax.quiver(X, Y, \n",
    "                       norm_grad_x[::x_step, ::y_step].cpu().numpy(), \n",
    "                       norm_grad_y[::x_step, ::y_step].cpu().numpy(), \n",
    "                       gradient_magnitude[::x_step, ::y_step].cpu().numpy(), \n",
    "                       cmap=plt.cm.jet)\n",
    "        plt.pause(1e-10)\n",
    "\n",
    "updatesdf = WorldMoveableImageCollision()\n",
    "while True:\n",
    "    updatesdf.run()\n"
   ]
  },
  {
   "cell_type": "code",
   "execution_count": 19,
   "metadata": {},
   "outputs": [
    {
     "data": {
      "text/plain": [
       "<matplotlib.image.AxesImage at 0x7f1938ba6130>"
      ]
     },
     "execution_count": 19,
     "metadata": {},
     "output_type": "execute_result"
    },
    {
     "data": {
      "image/png": "[encoded data removed]",
      "text/plain": [
       "<Figure size 640x480 with 1 Axes>"
      ]
     },
     "metadata": {},
     "output_type": "display_data"
    }
   ],
   "source": [
    "import matplotlib.pyplot as plt\n",
    "import torch\n",
    "\n",
    "plt.figure()\n",
    "ax = plt.subplot(1,1,1)\n",
    "ax.invert_yaxis()\n",
    "\n",
    "t = torch.arange(15).view(3,-1)\n",
    "ax.imshow(t.cpu())"
   ]
  },
  {
   "cell_type": "code",
   "execution_count": 10,
   "metadata": {},
   "outputs": [
    {
     "name": "stdout",
     "output_type": "stream",
     "text": [
      "tensor([[5., 5., 5., 5., 5.],\n",
      "        [5., 5., 5., 5., 5.],\n",
      "        [5., 5., 5., 5., 5.]]) tensor([[1., 1., 1., 1., 1.],\n",
      "        [1., 1., 1., 1., 1.],\n",
      "        [1., 1., 1., 1., 1.]])\n"
     ]
    }
   ],
   "source": [
    "grad_y,grad_x = torch.gradient(t)\n",
    "print(grad_y,grad_x)"
   ]
  },
  {
   "cell_type": "code",
   "execution_count": 11,
   "metadata": {},
   "outputs": [
    {
     "data": {
      "text/plain": [
       "torch.Size([3, 5])"
      ]
     },
     "execution_count": 11,
     "metadata": {},
     "output_type": "execute_result"
    }
   ],
   "source": [
    "grad_x.shape"
   ]
  },
  {
   "cell_type": "code",
   "execution_count": 1,
   "metadata": {},
   "outputs": [],
   "source": [
    "pause = True"
   ]
  },
  {
   "cell_type": "code",
   "execution_count": 11,
   "metadata": {},
   "outputs": [
    {
     "name": "stdout",
     "output_type": "stream",
     "text": [
      "True\n"
     ]
    }
   ],
   "source": [
    "pause =  not pause\n",
    "print(pause)"
   ]
  },
  {
   "cell_type": "code",
   "execution_count": null,
   "metadata": {},
   "outputs": [],
   "source": []
  },
  {
   "cell_type": "code",
   "execution_count": 12,
   "metadata": {},
   "outputs": [
    {
     "ename": "TypeError",
     "evalue": "imshow() missing 1 required positional argument: 'X'",
     "output_type": "error",
     "traceback": [
      "\u001b[0;31m---------------------------------------------------------------------------\u001b[0m",
      "\u001b[0;31mTypeError\u001b[0m                                 Traceback (most recent call last)",
      "Cell \u001b[0;32mIn[12], line 17\u001b[0m\n\u001b[1;32m     14\u001b[0m fig\u001b[39m.\u001b[39mcanvas\u001b[39m.\u001b[39mmpl_connect(\u001b[39m'\u001b[39m\u001b[39mkey_press_event\u001b[39m\u001b[39m'\u001b[39m, key_call_back)\n\u001b[1;32m     16\u001b[0m \u001b[39mwhile\u001b[39;00m (\u001b[39mTrue\u001b[39;00m):\n\u001b[0;32m---> 17\u001b[0m     plt\u001b[39m.\u001b[39;49mimshow()\n\u001b[1;32m     18\u001b[0m     \u001b[39mif\u001b[39;00m pause:\n\u001b[1;32m     19\u001b[0m         time\u001b[39m.\u001b[39msleep(\u001b[39m1\u001b[39m)\n",
      "\u001b[0;31mTypeError\u001b[0m: imshow() missing 1 required positional argument: 'X'"
     ]
    },
    {
     "data": {
      "image/png": "[encoded data removed]",
      "text/plain": [
       "<Figure size 640x480 with 1 Axes>"
      ]
     },
     "metadata": {},
     "output_type": "display_data"
    }
   ],
   "source": [
    "import matplotlib.pyplot as plt\n",
    "import time\n",
    "\n",
    "pause = False\n",
    "\n",
    "def key_call_back(event):\n",
    "    global pause\n",
    "    pause = not pause\n",
    "    print(event)\n",
    "\n",
    "fig = plt.figure()\n",
    "ax = plt.subplot(1,1,1)\n",
    "\n",
    "fig.canvas.mpl_connect('key_press_event', key_call_back)\n",
    "\n",
    "while (True):\n",
    "    plt.imshow()\n",
    "    if pause:\n",
    "        time.sleep(1)\n",
    "        print(pause)\n",
    "\n",
    "\n"
   ]
  },
  {
   "cell_type": "code",
   "execution_count": 6,
   "metadata": {},
   "outputs": [
    {
     "name": "stdout",
     "output_type": "stream",
     "text": [
      "Quaternion (x, y, z, w): [-0.         -0.70710678 -0.          0.70710678]\n"
     ]
    }
   ],
   "source": [
    "import numpy as np\n",
    "from scipy.spatial.transform import Rotation\n",
    "\n",
    "# Define the gradient vector (replace with your actual values)\n",
    "gradient = np.array([0, 0.0, 1])  # Replace with your unit vector\n",
    "unitX = np.array([1.0, 0.0, 0.0])  # Assuming unitX is the x-axis\n",
    "\n",
    "# Calculate the rotation axis and angle\n",
    "angle = -np.arccos(np.dot(gradient, unitX) / (np.linalg.norm(gradient) * np.linalg.norm(unitX)))\n",
    "axis = np.cross(gradient, unitX)\n",
    "axis /= np.linalg.norm(axis)\n",
    "\n",
    "# Create a rotation object\n",
    "rotation = Rotation.from_rotvec(angle * axis)\n",
    "\n",
    "# Get the quaternion\n",
    "quaternion = rotation.as_quat()\n",
    "\n",
    "# Print the quaternion components\n",
    "print(\"Quaternion (x, y, z, w):\", quaternion)\n"
   ]
  },
  {
   "cell_type": "code",
   "execution_count": 9,
   "metadata": {},
   "outputs": [
    {
     "name": "stdout",
     "output_type": "stream",
     "text": [
      "Quaternion (x, y, z, w): [ 0.          0.         -0.70710678  0.70710678]\n"
     ]
    }
   ],
   "source": [
    "import numpy as np\n",
    "from scipy.spatial.transform import Rotation\n",
    "\n",
    "# Define the gradient vector (replace with your actual values)\n",
    "gradient = np.array([0, 0.0, 1])\n",
    "unitX = np.array([1.0, 0.0, 0.0])  # Assuming unitX is the x-axis\n",
    "\n",
    "# Calculate the quaternion directly\n",
    "rotation = Rotation.from_euler('z', -np.arccos(np.dot(gradient, unitX)), degrees=False)\n",
    "quaternion = rotation.as_quat()\n",
    "\n",
    "# Print the quaternion components\n",
    "print(\"Quaternion (x, y, z, w):\", quaternion)\n"
   ]
  },
  {
   "cell_type": "code",
   "execution_count": 18,
   "metadata": {},
   "outputs": [
    {
     "name": "stdout",
     "output_type": "stream",
     "text": [
      "0 [0.63879241 0.14094505 0.70139163] [0.18677151 0.57028883 0.51542101]\n",
      "1 [0.2153327  0.65092456 0.51959501] [0.62955234 0.98379755 0.25895905]\n",
      "2 [0.23783105 0.81892802 0.74948435] [0.15284255 0.86670831 0.84260757]\n",
      "3 [0.18740672 0.65956192 0.03132914] [0.33288398 0.06250649 0.29066623]\n",
      "4 [0.18712735 0.42484445 0.90299381] [0.44369879 0.6588304  0.35564418]\n",
      "5 [0.59740703 0.68248755 0.90869395] [0.83181203 0.8395044  0.74934865]\n",
      "6 [0.40010377 0.4059937  0.99468602] [0.58155439 0.49068046 0.2100952 ]\n"
     ]
    }
   ],
   "source": [
    "a = np.random.random((7,3))\n",
    "b = np.random.random((7,3))\n",
    "for  i, (ai, bi) in enumerate(zip(a, b)):\n",
    "    print(i,ai,bi)"
   ]
  }
 ],
 "metadata": {
  "kernelspec": {
   "display_name": "base",
   "language": "python",
   "name": "python3"
  },
  "language_info": {
   "codemirror_mode": {
    "name": "ipython",
    "version": 3
   },
   "file_extension": ".py",
   "mimetype": "text/x-python",
   "name": "python",
   "nbconvert_exporter": "python",
   "pygments_lexer": "ipython3",
   "version": "3.8.13"
  },
  "orig_nbformat": 4
 },
 "nbformat": 4,
 "nbformat_minor": 2
}
